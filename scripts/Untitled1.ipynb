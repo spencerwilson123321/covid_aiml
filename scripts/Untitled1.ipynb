{
 "cells": [
  {
   "cell_type": "code",
   "execution_count": 81,
   "metadata": {},
   "outputs": [],
   "source": [
    "from tensorflow.python.keras.layers import Dense, Conv2D, MaxPooling2D, Flatten, Dropout, ZeroPadding2D\n",
    "from tensorflow.python.keras.models import Sequential\n",
    "from tensorflow.keras import Input\n",
    "from tensorflow.python.keras.preprocessing.image import ImageDataGenerator\n",
    "from tensorflow.keras.optimizers import SGD\n",
    "import numpy"
   ]
  },
  {
   "cell_type": "code",
   "execution_count": 111,
   "metadata": {},
   "outputs": [
    {
     "name": "stdout",
     "output_type": "stream",
     "text": [
      "Found 1666 images belonging to 3 classes.\n",
      "Found 714 images belonging to 3 classes.\n"
     ]
    }
   ],
   "source": [
    "training_path = '.\\\\assets\\\\training\\\\'\n",
    "testing_path = '.\\\\assets\\\\testing\\\\'\n",
    "\n",
    "train = ImageDataGenerator(rescale=1 / 255)\n",
    "validation = ImageDataGenerator(rescale=1 / 255)\n",
    "\n",
    "train_data = train.flow_from_directory(training_path)\n",
    "test_data = train.flow_from_directory(testing_path)\n",
    "\n",
    "num_classes = 3\n"
   ]
  },
  {
   "cell_type": "code",
   "execution_count": 118,
   "metadata": {},
   "outputs": [],
   "source": [
    "model = Sequential()\n",
    "model.add(Conv2D(filters=6, kernel_size=(3,3),activation='relu', input_shape=(256,256,3)))\n",
    "model.add(MaxPooling2D(2,2))\n",
    "model.add(ZeroPadding2D(padding=(1,1)))\n",
    "model.add(Conv2D(filters=32,kernel_size=(3,3),activation='relu', strides=(1,1), padding=\"same\"))\n",
    "model.add(MaxPooling2D(2,2))\n",
    "model.add(ZeroPadding2D(padding=(1,1)))\n",
    "model.add(Conv2D(filters=64,kernel_size=(3,3),activation='relu', strides=(1,1), padding=\"same\"))\n",
    "model.add(MaxPooling2D(2,2))\n",
    "model.add(ZeroPadding2D(padding=(1,1)))\n",
    "model.add(Conv2D(filters=128,kernel_size=(3,3),activation='relu', strides=(1,1), padding=\"same\"))\n",
    "model.add(MaxPooling2D(2,2))\n",
    "model.add(ZeroPadding2D(padding=(1,1)))\n",
    "model.add(Conv2D(filters=256,kernel_size=(3,3),activation='relu',  strides=(1,1),padding=\"same\"))\n",
    "model.add(MaxPooling2D(2,2))\n",
    "model.add(Flatten())\n",
    "model.add(Dense(1000, activation='relu'))\n",
    "model.add(Dense(num_classes, activation='softmax'))\n"
   ]
  },
  {
   "cell_type": "code",
   "execution_count": 119,
   "metadata": {},
   "outputs": [
    {
     "name": "stdout",
     "output_type": "stream",
     "text": [
      "Model: \"sequential_25\"\n",
      "_________________________________________________________________\n",
      "Layer (type)                 Output Shape              Param #   \n",
      "=================================================================\n",
      "conv2d_62 (Conv2D)           (None, 254, 254, 6)       168       \n",
      "_________________________________________________________________\n",
      "max_pooling2d_62 (MaxPooling (None, 127, 127, 6)       0         \n",
      "_________________________________________________________________\n",
      "zero_padding2d_38 (ZeroPaddi (None, 129, 129, 6)       0         \n",
      "_________________________________________________________________\n",
      "conv2d_63 (Conv2D)           (None, 129, 129, 32)      1760      \n",
      "_________________________________________________________________\n",
      "max_pooling2d_63 (MaxPooling (None, 64, 64, 32)        0         \n",
      "_________________________________________________________________\n",
      "zero_padding2d_39 (ZeroPaddi (None, 66, 66, 32)        0         \n",
      "_________________________________________________________________\n",
      "conv2d_64 (Conv2D)           (None, 66, 66, 64)        18496     \n",
      "_________________________________________________________________\n",
      "max_pooling2d_64 (MaxPooling (None, 33, 33, 64)        0         \n",
      "_________________________________________________________________\n",
      "zero_padding2d_40 (ZeroPaddi (None, 35, 35, 64)        0         \n",
      "_________________________________________________________________\n",
      "conv2d_65 (Conv2D)           (None, 35, 35, 128)       73856     \n",
      "_________________________________________________________________\n",
      "max_pooling2d_65 (MaxPooling (None, 17, 17, 128)       0         \n",
      "_________________________________________________________________\n",
      "zero_padding2d_41 (ZeroPaddi (None, 19, 19, 128)       0         \n",
      "_________________________________________________________________\n",
      "conv2d_66 (Conv2D)           (None, 19, 19, 256)       295168    \n",
      "_________________________________________________________________\n",
      "max_pooling2d_66 (MaxPooling (None, 9, 9, 256)         0         \n",
      "_________________________________________________________________\n",
      "flatten_22 (Flatten)         (None, 20736)             0         \n",
      "_________________________________________________________________\n",
      "dense_44 (Dense)             (None, 1000)              20737000  \n",
      "_________________________________________________________________\n",
      "dense_45 (Dense)             (None, 3)                 3003      \n",
      "=================================================================\n",
      "Total params: 21,129,451\n",
      "Trainable params: 21,129,451\n",
      "Non-trainable params: 0\n",
      "_________________________________________________________________\n"
     ]
    }
   ],
   "source": [
    "model.summary()"
   ]
  },
  {
   "cell_type": "code",
   "execution_count": 120,
   "metadata": {},
   "outputs": [],
   "source": [
    "model.compile(optimizer = \"adam\", loss = 'categorical_crossentropy', metrics = ['accuracy'])"
   ]
  },
  {
   "cell_type": "code",
   "execution_count": 121,
   "metadata": {},
   "outputs": [
    {
     "name": "stdout",
     "output_type": "stream",
     "text": [
      "Epoch 1/20\n",
      "53/53 [==============================] - 53s 993ms/step - loss: 0.9801 - accuracy: 0.4598\n",
      "Epoch 2/20\n",
      "53/53 [==============================] - 56s 1s/step - loss: 0.2675 - accuracy: 0.9142\n",
      "Epoch 3/20\n",
      "53/53 [==============================] - 60s 1s/step - loss: 0.1836 - accuracy: 0.9400\n",
      "Epoch 4/20\n",
      "53/53 [==============================] - 63s 1s/step - loss: 0.1188 - accuracy: 0.9598\n",
      "Epoch 5/20\n",
      "53/53 [==============================] - 61s 1s/step - loss: 0.0503 - accuracy: 0.9838\n",
      "Epoch 6/20\n",
      "53/53 [==============================] - 58s 1s/step - loss: 0.1075 - accuracy: 0.9748\n",
      "Epoch 7/20\n",
      "53/53 [==============================] - 55s 1s/step - loss: 0.0263 - accuracy: 0.9916\n",
      "Epoch 8/20\n",
      "53/53 [==============================] - 54s 1s/step - loss: 0.0092 - accuracy: 0.9976\n",
      "Epoch 9/20\n",
      "53/53 [==============================] - 56s 1s/step - loss: 0.0027 - accuracy: 0.9994\n",
      "Epoch 10/20\n",
      "53/53 [==============================] - 54s 1s/step - loss: 9.1927e-04 - accuracy: 1.0000\n",
      "Epoch 11/20\n",
      "53/53 [==============================] - 54s 1s/step - loss: 2.3291e-04 - accuracy: 1.0000\n",
      "Epoch 12/20\n",
      "53/53 [==============================] - 54s 1s/step - loss: 1.0901e-04 - accuracy: 1.0000\n",
      "Epoch 13/20\n",
      "53/53 [==============================] - 55s 1s/step - loss: 5.1306e-05 - accuracy: 1.0000\n",
      "Epoch 14/20\n",
      "53/53 [==============================] - 55s 1s/step - loss: 3.0016e-05 - accuracy: 1.0000\n",
      "Epoch 15/20\n",
      "53/53 [==============================] - 54s 1s/step - loss: 2.4136e-05 - accuracy: 1.0000\n",
      "Epoch 16/20\n",
      "53/53 [==============================] - 54s 1s/step - loss: 1.6852e-05 - accuracy: 1.0000\n",
      "Epoch 17/20\n",
      "53/53 [==============================] - 54s 1s/step - loss: 1.4123e-05 - accuracy: 1.0000\n",
      "Epoch 18/20\n",
      "53/53 [==============================] - 54s 1s/step - loss: 1.0683e-05 - accuracy: 1.0000\n",
      "Epoch 19/20\n",
      "53/53 [==============================] - 54s 1s/step - loss: 8.7196e-06 - accuracy: 1.0000\n",
      "Epoch 20/20\n",
      "53/53 [==============================] - 55s 1s/step - loss: 7.2785e-06 - accuracy: 1.0000\n"
     ]
    },
    {
     "data": {
      "text/plain": [
       "<tensorflow.python.keras.callbacks.History at 0x211b79136c8>"
      ]
     },
     "execution_count": 121,
     "metadata": {},
     "output_type": "execute_result"
    }
   ],
   "source": [
    "model.fit(train_data, epochs = 20, verbose = 1)"
   ]
  },
  {
   "cell_type": "code",
   "execution_count": 122,
   "metadata": {},
   "outputs": [
    {
     "name": "stdout",
     "output_type": "stream",
     "text": [
      "23/23 [==============================] - 7s 284ms/step - loss: 0.2083 - accuracy: 0.9762\n",
      "Test accuracy = 0.976\n"
     ]
    }
   ],
   "source": [
    "loss, acc = model.evaluate(test_data, verbose = 1)\n",
    "print('Test accuracy = %.3f' % acc)"
   ]
  },
  {
   "cell_type": "code",
   "execution_count": null,
   "metadata": {},
   "outputs": [],
   "source": []
  },
  {
   "cell_type": "code",
   "execution_count": null,
   "metadata": {},
   "outputs": [],
   "source": []
  },
  {
   "cell_type": "code",
   "execution_count": null,
   "metadata": {},
   "outputs": [],
   "source": []
  }
 ],
 "metadata": {
  "kernelspec": {
   "display_name": "venv",
   "language": "python",
   "name": "venv"
  },
  "language_info": {
   "codemirror_mode": {
    "name": "ipython",
    "version": 3
   },
   "file_extension": ".py",
   "mimetype": "text/x-python",
   "name": "python",
   "nbconvert_exporter": "python",
   "pygments_lexer": "ipython3",
   "version": "3.7.6"
  }
 },
 "nbformat": 4,
 "nbformat_minor": 4
}
